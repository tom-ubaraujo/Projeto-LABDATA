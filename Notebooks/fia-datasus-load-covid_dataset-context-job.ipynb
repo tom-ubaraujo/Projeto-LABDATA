{
 "cells": [
  {
   "cell_type": "markdown",
   "metadata": {},
   "source": [
    "# AWS Glue Studio Notebook\n",
    "##### You are now running a AWS Glue Studio notebook; To start using your notebook you need to start an AWS Glue Interactive Session.\n"
   ]
  },
  {
   "cell_type": "markdown",
   "metadata": {},
   "source": [
    "#### Optional: Run this cell to see available notebook commands (\"magics\").\n"
   ]
  },
  {
   "cell_type": "code",
   "execution_count": null,
   "metadata": {},
   "outputs": [],
   "source": [
    "%help"
   ]
  },
  {
   "cell_type": "markdown",
   "metadata": {},
   "source": [
    "####  Run this cell to set up and start your interactive session.\n"
   ]
  },
  {
   "cell_type": "code",
   "execution_count": 1,
   "metadata": {},
   "outputs": [
    {
     "name": "stdout",
     "output_type": "stream",
     "text": [
      "Welcome to the Glue Interactive Sessions Kernel\n",
      "For more information on available magic commands, please type %help in any new cell.\n",
      "\n",
      "Please view our Getting Started page to access the most up-to-date information on the Interactive Sessions kernel: https://docs.aws.amazon.com/glue/latest/dg/interactive-sessions.html\n",
      "Installed kernel version: 0.37.3 \n",
      "Current idle_timeout is 2800 minutes.\n",
      "idle_timeout has been set to 2880 minutes.\n",
      "Setting Glue version to: 3.0\n",
      "Previous worker type: G.1X\n",
      "Setting new worker type to: G.1X\n",
      "Previous number of workers: 5\n",
      "Setting new number of workers to: 5\n",
      "Authenticating with environment variables and user-defined glue_role_arn: arn:aws:iam::021090348946:role/fia-datasus-covid_dataset-role\n",
      "Trying to create a Glue session for the kernel.\n",
      "Worker Type: G.1X\n",
      "Number of Workers: 5\n",
      "Session ID: 57a5091f-554a-445f-9cd8-1fa4ce07b07a\n",
      "Job Type: glueetl\n",
      "Applying the following default arguments:\n",
      "--glue_kernel_version 0.37.3\n",
      "--enable-glue-datacatalog true\n",
      "Waiting for session 57a5091f-554a-445f-9cd8-1fa4ce07b07a to get into ready status...\n",
      "Session 57a5091f-554a-445f-9cd8-1fa4ce07b07a has been created.\n",
      "GlueArgumentError: the following arguments are required: --JOB_NAME\n"
     ]
    }
   ],
   "source": [
    "%idle_timeout 2880\n",
    "%glue_version 3.0\n",
    "%worker_type G.1X\n",
    "%number_of_workers 5\n",
    "\n",
    "import sys\n",
    "from awsglue.transforms import *\n",
    "from awsglue.utils import getResolvedOptions\n",
    "from pyspark.context import SparkContext\n",
    "from awsglue.context import GlueContext\n",
    "from awsglue.job import Job\n",
    "\n",
    "## @params: [JOB_NAME]\n",
    "args = getResolvedOptions(sys.argv, ['JOB_NAME'])\n",
    "\n",
    "sc = SparkContext.getOrCreate()\n",
    "glueContext = GlueContext(sc)\n",
    "spark = glueContext.spark_session #objeto spark dentro do contexto do glue\n",
    "\n",
    "job = Job(glueContext)\n",
    "job.init(args['JOB_NAME'], args)"
   ]
  },
  {
   "cell_type": "code",
   "execution_count": null,
   "metadata": {},
   "outputs": [],
   "source": [
    "# read files from raw-data\n",
    "df_covid = spark.read.parquet(\"s3://data-lake-fia/raw-data/datasus-imunizacao\")"
   ]
  },
  {
   "cell_type": "code",
   "execution_count": 2,
   "metadata": {},
   "outputs": [
    {
     "name": "stdout",
     "output_type": "stream",
     "text": [
      "root\n",
      " |-- _index: string (nullable = true)\n",
      " |-- _type: string (nullable = true)\n",
      " |-- _id: string (nullable = true)\n",
      " |-- _score: double (nullable = true)\n",
      " |-- _source: struct (nullable = true)\n",
      " |    |-- @timestamp: string (nullable = true)\n",
      " |    |-- @version: string (nullable = true)\n",
      " |    |-- co_condicao_maternal: long (nullable = true)\n",
      " |    |-- data_importacao_datalake: string (nullable = true)\n",
      " |    |-- data_importacao_rnds: string (nullable = true)\n",
      " |    |-- document_id: string (nullable = true)\n",
      " |    |-- ds_condicao_maternal: string (nullable = true)\n",
      " |    |-- dt_deleted: string (nullable = true)\n",
      " |    |-- estabelecimento_municipio_codigo: string (nullable = true)\n",
      " |    |-- estabelecimento_municipio_nome: string (nullable = true)\n",
      " |    |-- estabelecimento_razaoSocial: string (nullable = true)\n",
      " |    |-- estabelecimento_uf: string (nullable = true)\n",
      " |    |-- estabelecimento_valor: string (nullable = true)\n",
      " |    |-- estalecimento_noFantasia: string (nullable = true)\n",
      " |    |-- id_sistema_origem: string (nullable = true)\n",
      " |    |-- paciente_dataNascimento: string (nullable = true)\n",
      " |    |-- paciente_endereco_cep: string (nullable = true)\n",
      " |    |-- paciente_endereco_coIbgeMunicipio: string (nullable = true)\n",
      " |    |-- paciente_endereco_coPais: string (nullable = true)\n",
      " |    |-- paciente_endereco_nmMunicipio: string (nullable = true)\n",
      " |    |-- paciente_endereco_nmPais: string (nullable = true)\n",
      " |    |-- paciente_endereco_uf: string (nullable = true)\n",
      " |    |-- paciente_enumSexoBiologico: string (nullable = true)\n",
      " |    |-- paciente_id: string (nullable = true)\n",
      " |    |-- paciente_idade: long (nullable = true)\n",
      " |    |-- paciente_nacionalidade_enumNacionalidade: string (nullable = true)\n",
      " |    |-- paciente_racaCor_codigo: string (nullable = true)\n",
      " |    |-- paciente_racaCor_valor: string (nullable = true)\n",
      " |    |-- sistema_origem: string (nullable = true)\n",
      " |    |-- status: string (nullable = true)\n",
      " |    |-- vacina_categoria_codigo: string (nullable = true)\n",
      " |    |-- vacina_categoria_nome: string (nullable = true)\n",
      " |    |-- vacina_codigo: string (nullable = true)\n",
      " |    |-- vacina_dataAplicacao: string (nullable = true)\n",
      " |    |-- vacina_descricao_dose: string (nullable = true)\n",
      " |    |-- vacina_fabricante_nome: string (nullable = true)\n",
      " |    |-- vacina_fabricante_referencia: string (nullable = true)\n",
      " |    |-- vacina_grupoAtendimento_codigo: string (nullable = true)\n",
      " |    |-- vacina_grupoAtendimento_nome: string (nullable = true)\n",
      " |    |-- vacina_lote: string (nullable = true)\n",
      " |    |-- vacina_nome: string (nullable = true)\n",
      " |    |-- vacina_numDose: string (nullable = true)\n"
     ]
    }
   ],
   "source": [
    "df_covid.printSchema()"
   ]
  },
  {
   "cell_type": "code",
   "execution_count": 73,
   "metadata": {},
   "outputs": [
    {
     "name": "stdout",
     "output_type": "stream",
     "text": [
      "\n"
     ]
    }
   ],
   "source": [
    "# change struct field to separeted columns\n",
    "df_covid_final = (\n",
    "    df_covid\n",
    "    .select('_index',\n",
    "            '_type',\n",
    "            '_id',\n",
    "            '_score',\n",
    "            \"_source.@timestamp\",\n",
    "            \"_source.@version\",\n",
    "            \"_source.co_condicao_maternal\",\n",
    "            \"_source.data_importacao_datalake\",\n",
    "            \"_source.data_importacao_rnds\",\n",
    "            \"_source.document_id\",\n",
    "            \"_source.ds_condicao_maternal\",\n",
    "            \"_source.dt_deleted\",\n",
    "            \"_source.estabelecimento_municipio_codigo\",\n",
    "            \"_source.estabelecimento_municipio_nome\",\n",
    "            \"_source.estabelecimento_razaoSocial\",\n",
    "            \"_source.estabelecimento_uf\",\n",
    "            \"_source.estabelecimento_valor\",\n",
    "            \"_source.estalecimento_noFantasia\",\n",
    "            \"_source.id_sistema_origem\",\n",
    "            \"_source.paciente_dataNascimento\",\n",
    "            \"_source.paciente_endereco_cep\",\n",
    "            \"_source.paciente_endereco_coIbgeMunicipio\",\n",
    "            \"_source.paciente_endereco_coPais\",\n",
    "            \"_source.paciente_endereco_nmMunicipio\",\n",
    "            \"_source.paciente_endereco_nmPais\",\n",
    "            \"_source.paciente_endereco_uf\",\n",
    "            \"_source.paciente_enumSexoBiologico\",\n",
    "            \"_source.paciente_id\",\n",
    "            \"_source.paciente_idade\",\n",
    "            \"_source.paciente_nacionalidade_enumNacionalidade\",\n",
    "            \"_source.paciente_racaCor_codigo\",\n",
    "            \"_source.paciente_racaCor_valor\",\n",
    "            \"_source.sistema_origem\",\n",
    "            \"_source.status\",\n",
    "            \"_source.vacina_categoria_codigo\",\n",
    "            \"_source.vacina_categoria_nome\",\n",
    "            \"_source.vacina_codigo\",\n",
    "            \"_source.vacina_dataAplicacao\",\n",
    "            \"_source.vacina_descricao_dose\",\n",
    "            \"_source.vacina_fabricante_nome\",\n",
    "            \"_source.vacina_fabricante_referencia\",\n",
    "            \"_source.vacina_grupoAtendimento_codigo\",\n",
    "            \"_source.vacina_grupoAtendimento_nome\",\n",
    "            \"_source.vacina_lote\",\n",
    "            \"_source.vacina_nome\",\n",
    "            \"_source.vacina_numDose\",\n",
    "           )\n",
    ")"
   ]
  },
  {
   "cell_type": "code",
   "execution_count": 74,
   "metadata": {},
   "outputs": [
    {
     "name": "stdout",
     "output_type": "stream",
     "text": [
      "\n"
     ]
    }
   ],
   "source": [
    "# write parquet final into context tier\n",
    "(\n",
    "    df_covid_final\n",
    "    .write\n",
    "    .mode(\"overwrite\")\n",
    "    .format(\"parquet\")\n",
    "    .save(\"s3://data-lake-fia/context/datasus_db/covid_dataset/\")\n",
    ")"
   ]
  },
  {
   "cell_type": "code",
   "execution_count": 75,
   "metadata": {},
   "outputs": [
    {
     "name": "stdout",
     "output_type": "stream",
     "text": [
      "NameError: name 'job' is not defined\n"
     ]
    }
   ],
   "source": [
    "job.commit()"
   ]
  },
  {
   "cell_type": "code",
   "execution_count": null,
   "metadata": {},
   "outputs": [],
   "source": []
  }
 ],
 "metadata": {
  "kernelspec": {
   "display_name": "Python 3 (ipykernel)",
   "language": "python",
   "name": "python3"
  },
  "language_info": {
   "codemirror_mode": {
    "name": "ipython",
    "version": 3
   },
   "file_extension": ".py",
   "mimetype": "text/x-python",
   "name": "python",
   "nbconvert_exporter": "python",
   "pygments_lexer": "ipython3",
   "version": "3.10.10"
  }
 },
 "nbformat": 4,
 "nbformat_minor": 4
}
